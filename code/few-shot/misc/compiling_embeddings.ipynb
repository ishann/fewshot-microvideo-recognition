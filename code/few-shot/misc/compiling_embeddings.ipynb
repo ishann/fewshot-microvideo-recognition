{
 "cells": [
  {
   "attachments": {},
   "cell_type": "markdown",
   "metadata": {},
   "source": [
    "#### This is a one-off script, run from ../../data/embeddings to compile pretrained video and finetuned audio embeddings into a single PyTorch read-able file.\n",
    "\n",
    "#### Since this is a one-off script, the code is horrible because it does not need to be nice.\n",
    "\n",
    "#### One must write horrible code some times, to be able to focus on writing good code at other times."
   ]
  },
  {
   "cell_type": "code",
   "execution_count": 13,
   "metadata": {},
   "outputs": [],
   "source": [
    "import pandas as pd\n",
    "import torch\n",
    "import os\n",
    "\n",
    "DATA_DIR = \"../../data/embeddings/tmp\"\n",
    "OUT_PATH = \"../../data/embeddings/embeddings_vid_pretrn_aud_ftune.pt\"\n",
    "\n",
    "trn_labels = pd.read_csv(os.path.join(DATA_DIR, \"fewshot_trn_labels.csv\"))\n",
    "val_labels = pd.read_csv(os.path.join(DATA_DIR, \"fewshot_val_labels.csv\"))\n",
    "\n",
    "aud_trn = torch.load(os.path.join(DATA_DIR, \"audio_ftune_trn.pt\"))\n",
    "aud_val = torch.load(os.path.join(DATA_DIR, \"audio_ftune_val.pt\"))\n",
    "\n",
    "vid_trn = torch.load(os.path.join(DATA_DIR, \"video_pretrn_trn.pt\"))\n",
    "vid_val = torch.load(os.path.join(DATA_DIR, \"video_pretrn_val.pt\"))\n",
    "\n",
    "vid_trn_out = torch.zeros(vid_trn[\"embeddings\"].shape)\n",
    "aud_trn_out = torch.zeros(aud_trn[\"embeddings\"].shape)\n",
    "\n",
    "vid_val_out = torch.zeros(vid_val[\"embeddings\"].shape)\n",
    "aud_val_out = torch.zeros(aud_val[\"embeddings\"].shape)\n",
    "\n",
    "trn_labels_out, val_labels_out = [], []\n",
    "\n",
    "mapper = {'Couple Romance': 0, \n",
    "         'Dance': 1,\n",
    "         'Heartbreak Romance': 2,\n",
    "         'Memes': 3,\n",
    "         'Pranks': 4}"
   ]
  },
  {
   "cell_type": "code",
   "execution_count": 14,
   "metadata": {},
   "outputs": [],
   "source": [
    "for idx, filename in enumerate(vid_trn[\"filenames\"]):\n",
    "\n",
    "    index = int(filename[:-4])\n",
    "    label = mapper[trn_labels[trn_labels[\"PostIndex\"]==index][\"Topic\"].values[0]]\n",
    "\n",
    "    aud_idx = aud_trn[\"filenames\"].index(str(index)+\".wav\")\n",
    "    vid_trn_out[idx] = vid_trn[\"embeddings\"][idx]\n",
    "    aud_trn_out[idx] = aud_trn[\"embeddings\"][aud_idx]\n",
    "\n",
    "    trn_labels_out.append(label)\n",
    "\n",
    "\n",
    "for idx, filename in enumerate(vid_val[\"filenames\"]):\n",
    "    \n",
    "    index = int(filename[:-4])\n",
    "    label = mapper[val_labels[val_labels[\"PostIndex\"]==index][\"Topic\"].values[0]]\n",
    "\n",
    "    aud_idx = aud_val[\"filenames\"].index(str(index)+\".wav\")\n",
    "    vid_val_out[idx] = vid_val[\"embeddings\"][idx]\n",
    "    aud_val_out[idx] = aud_val[\"embeddings\"][aud_idx]\n",
    "\n",
    "    val_labels_out.append(label)"
   ]
  },
  {
   "cell_type": "code",
   "execution_count": null,
   "metadata": {},
   "outputs": [],
   "source": []
  },
  {
   "cell_type": "code",
   "execution_count": 15,
   "metadata": {},
   "outputs": [],
   "source": [
    "# Write to disk:x\n",
    "# vid_trn_out = [440x400]\n",
    "# aud_trn_out = [440x512]\n",
    "# vid_val_out = [108x400]\n",
    "# aud_val_out = [108x512]\n",
    "# trn_labels = [440]\n",
    "# val_labels = [108]\n",
    "\n",
    "data = {\"vid_trn\": vid_trn_out,\n",
    "        \"aud_trn\": aud_trn_out,\n",
    "        \"vid_val\": vid_val_out,\n",
    "        \"aud_val\": aud_val_out,\n",
    "        \"trn_labels\": trn_labels_out,\n",
    "        \"val_labels\": val_labels_out}\n",
    "        \n",
    "torch.save(data, OUT_PATH)"
   ]
  }
 ],
 "metadata": {
  "kernelspec": {
   "display_name": "mmvision",
   "language": "python",
   "name": "python3"
  },
  "language_info": {
   "codemirror_mode": {
    "name": "ipython",
    "version": 3
   },
   "file_extension": ".py",
   "mimetype": "text/x-python",
   "name": "python",
   "nbconvert_exporter": "python",
   "pygments_lexer": "ipython3",
   "version": "3.9.16"
  },
  "orig_nbformat": 4
 },
 "nbformat": 4,
 "nbformat_minor": 2
}
