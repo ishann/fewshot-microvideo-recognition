{
 "cells": [
  {
   "attachments": {},
   "cell_type": "markdown",
   "metadata": {},
   "source": [
    "Script to split all_labels into a 1:10 ratio of fewshot_labels and pretrain_labels."
   ]
  },
  {
   "cell_type": "code",
   "execution_count": 1,
   "metadata": {},
   "outputs": [],
   "source": [
    "import pandas as pd\n",
    "import os\n",
    "\n",
    "# Read in the data.\n",
    "DATA_DIR = \"../data\"\n",
    "OUT_DIR = \"../data\"\n",
    "FEWSHOT_TRN_LABEL_FILE = \"fewshot_trn_labels.csv\"\n",
    "FEWSHOT_VAL_LABEL_FILE = \"fewshot_val_labels.csv\"\n",
    "PRETRAIN_LABEL_FILE = \"pretrain_labels.csv\"\n",
    "\n",
    "FEWSHOT_PRETRAIN_RATIO = 0.1\n",
    "FEWSHOT_TRN_VAL_RATIO = 0.8\n",
    "\n",
    "TOPICS = [\"Dance\", \"Couple Romance\", \"Heartbreak Romance\", \"Memes\", \"Pranks\"]\n",
    "\n",
    "labels = pd.read_csv(os.path.join(DATA_DIR, 'all_labels.csv'))"
   ]
  },
  {
   "cell_type": "code",
   "execution_count": 2,
   "metadata": {},
   "outputs": [],
   "source": [
    "# Split labels and indices by TOPICS and distribute to fewshot and pretrain.\n",
    "fewshot = pd.DataFrame()\n",
    "pretrain = pd.DataFrame()\n",
    "\n",
    "for topic in TOPICS:\n",
    "    topic_df = labels[labels['Topic'] == topic]\n",
    "    split_idx = int(len(topic_df)*FEWSHOT_PRETRAIN_RATIO)\n",
    "    fewshot = pd.concat([fewshot, topic_df[:split_idx+1]])\n",
    "    pretrain = pd.concat([pretrain, topic_df[split_idx+1:]])"
   ]
  },
  {
   "cell_type": "code",
   "execution_count": 3,
   "metadata": {},
   "outputs": [],
   "source": [
    "# Split fewshot into train and val.\n",
    "fewshot_trn = pd.DataFrame()\n",
    "fewshot_val = pd.DataFrame()\n",
    "\n",
    "for topic in TOPICS:\n",
    "    topic_df = fewshot[fewshot['Topic'] == topic]\n",
    "    fewshot_split_idx = int(len(topic_df)*FEWSHOT_TRN_VAL_RATIO)\n",
    "    fewshot_trn = pd.concat([fewshot_trn, topic_df[:fewshot_split_idx+1]])\n",
    "    fewshot_val = pd.concat([fewshot_val, topic_df[fewshot_split_idx+1:]])"
   ]
  },
  {
   "cell_type": "code",
   "execution_count": 4,
   "metadata": {},
   "outputs": [],
   "source": [
    "# Export labels.\n",
    "fewshot_trn.to_csv(os.path.join(OUT_DIR, FEWSHOT_TRN_LABEL_FILE), index=False)\n",
    "fewshot_val.to_csv(os.path.join(OUT_DIR, FEWSHOT_VAL_LABEL_FILE), index=False)\n",
    "pretrain.to_csv(os.path.join(OUT_DIR, PRETRAIN_LABEL_FILE), index=False)"
   ]
  },
  {
   "cell_type": "code",
   "execution_count": 5,
   "metadata": {},
   "outputs": [],
   "source": [
    "#combinations = [[topic, video_format, language] for topic in TOPICS\n",
    "#                                                for video_format in VIDEO_FORMATS\n",
    "#                                                for language in LANGUAGES]\n",
    "#counts = [0]*len(combinations)\n",
    "#\n",
    "#for idx, [topic, video_format, language] in enumerate(combinations):\n",
    "#    counts[idx] = len(labels[labels[\"Topic\"]==topic][labels[\"VideoFormat\"]==video_format][labels[\"Language\"]==language])"
   ]
  }
 ],
 "metadata": {
  "kernelspec": {
   "display_name": "main",
   "language": "python",
   "name": "python3"
  },
  "language_info": {
   "codemirror_mode": {
    "name": "ipython",
    "version": 3
   },
   "file_extension": ".py",
   "mimetype": "text/x-python",
   "name": "python",
   "nbconvert_exporter": "python",
   "pygments_lexer": "ipython3",
   "version": "3.9.16"
  },
  "orig_nbformat": 4
 },
 "nbformat": 4,
 "nbformat_minor": 2
}
