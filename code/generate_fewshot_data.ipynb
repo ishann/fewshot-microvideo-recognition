{
 "cells": [
  {
   "cell_type": "code",
   "execution_count": 7,
   "metadata": {},
   "outputs": [],
   "source": [
    "import pandas as pd\n",
    "import os\n",
    "\n",
    "# Read in the data\n",
    "DATA_DIR = \"../data\"\n",
    "labels = pd.read_csv(os.path.join(DATA_DIR, 'all_data.csv'))\n",
    "indices = pd.read_csv(os.path.join(DATA_DIR, 'all_indices.csv'))\n",
    "\n",
    "TOPICS = [\"Dance\", \"Couple Romance\", \"Heartbreak Romance\", \"Memes\", \"Pranks\"]\n",
    "VIDEO_FORMATS = [\"animation\", \"image\", \"self-shot\", \"special-effects\", \"videos-with-text\"]\n",
    "LANGUAGES = [\"English\", \"Hindi\", \"Haryanvi\", \"Bengali\", \"Tamil\"]\n",
    "\n",
    "OUT_DIR = \"../data\"\n",
    "LABEL_FILE = \"all_data.csv\"\n",
    "INDICES_FILE = \"all_indices.csv\""
   ]
  },
  {
   "cell_type": "code",
   "execution_count": 8,
   "metadata": {},
   "outputs": [
    {
     "name": "stdout",
     "output_type": "stream",
     "text": [
      "Number of data-points: 3989\n"
     ]
    }
   ],
   "source": [
    "labels = pd.concat([trn_labels, val_labels])\n",
    "\n",
    "labels_f_topic = labels[labels[\"Topic\"].isin(TOPICS)]\n",
    "labels_f_VFormat = labels_f_topic[labels_f_topic[\"VideoFormat\"].isin(VIDEO_FORMATS)]\n",
    "labels_f_Language = labels_f_VFormat[labels_f_VFormat[\"Language\"].isin(LANGUAGES)]\n",
    "\n",
    "f_labels = labels_f_Language\n",
    "\n",
    "print(\"Number of data-points:\", len(f_labels))"
   ]
  },
  {
   "cell_type": "code",
   "execution_count": 9,
   "metadata": {},
   "outputs": [],
   "source": [
    "# Export data.\n",
    "f_labels.to_csv(os.path.join(OUT_DIR, LABEL_FILE), index=False)\n",
    "\n",
    "# Export PostIndex to OUT_DIR.\n",
    "f_labels[\"PostIndex\"].to_csv(os.path.join(OUT_DIR, INDICES_FILE), index=False)"
   ]
  }
 ],
 "metadata": {
  "kernelspec": {
   "display_name": "main",
   "language": "python",
   "name": "python3"
  },
  "language_info": {
   "codemirror_mode": {
    "name": "ipython",
    "version": 3
   },
   "file_extension": ".py",
   "mimetype": "text/x-python",
   "name": "python",
   "nbconvert_exporter": "python",
   "pygments_lexer": "ipython3",
   "version": "3.10.8"
  },
  "orig_nbformat": 4
 },
 "nbformat": 4,
 "nbformat_minor": 2
}
